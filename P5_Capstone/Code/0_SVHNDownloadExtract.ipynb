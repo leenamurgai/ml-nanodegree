{
 "cells": [
  {
   "cell_type": "markdown",
   "metadata": {
    "colab_type": "text",
    "id": "5hIbr52I7Z7U"
   },
   "source": [
    "Deep Learning Final Project\n",
    "=============\n",
    "\n",
    "# §0 Data Download and Extraction\n",
    "------------\n",
    "\n",
    "[SVHN](http://ufldl.stanford.edu/housenumbers/) is a real-world image dataset for developing machine learning and object recognition algorithms with minimal requirement on data preprocessing and formatting. It can be seen as similar in flavor to MNIST (e.g., the images are of small cropped digits), but incorporates an order of magnitude more labelled data (over 600,000 digit images) and comes from a significantly harder, unsolved, real world problem (recognizing digits and numbers in natural scene images). SVHN is obtained from house numbers in Google Street View images.\n",
    "\n",
    "Overview\n",
    "\n",
    "* 10 classes, 1 for each digit. Digit '1' has label 1, '9' has label 9 and '0' has label 10.\n",
    "* 73257 digits for training, 26032 digits for testing, and 531131 additional, somewhat less difficult samples, to use as extra training data\n",
    "* Comes in two formats:\n",
    " 1. Original images with character level bounding boxes.\n",
    " 2. MNIST-like 32-by-32 images centered around a single character (many of the images do contain some distractors at the sides).\n",
    "\n",
    "## 0.1 Import Modules"
   ]
  },
  {
   "cell_type": "code",
   "execution_count": 1,
   "metadata": {
    "cellView": "both",
    "colab": {
     "autoexec": {
      "startup": false,
      "wait_interval": 0
     }
    },
    "colab_type": "code",
    "collapsed": false,
    "id": "apJbCsBHl-2A"
   },
   "outputs": [],
   "source": [
    "from __future__ import print_function\n",
    "import os\n",
    "import sys\n",
    "import tarfile\n",
    "from six.moves.urllib.request import urlretrieve"
   ]
  },
  {
   "cell_type": "markdown",
   "metadata": {
    "colab_type": "text",
    "id": "jNWGtZaXn-5j"
   },
   "source": [
    "## 0.2 Download"
   ]
  },
  {
   "cell_type": "code",
   "execution_count": 2,
   "metadata": {
    "collapsed": false
   },
   "outputs": [],
   "source": [
    "url = 'http://ufldl.stanford.edu/housenumbers/'\n",
    "last_percent_reported = None\n",
    "\n",
    "def download_progress_hook(count, blockSize, totalSize):\n",
    "    '''A hook to report the progress of a download. Reports every 5% change in download progress.'''\n",
    "    global last_percent_reported\n",
    "    percent = int(count * blockSize * 100 / totalSize)\n",
    "    \n",
    "    if last_percent_reported != percent:\n",
    "        if percent % 10 == 0:\n",
    "           sys.stdout.write(\"%s%%\" % percent)\n",
    "           sys.stdout.flush()\n",
    "        else:\n",
    "           sys.stdout.write(\".\")\n",
    "           sys.stdout.flush()\n",
    "        \n",
    "    last_percent_reported = percent\n",
    "\n",
    "def maybe_download(folder, filename, expected_bytes, force=False):\n",
    "    '''Check if the directory exists, if not make it.'''\n",
    "    if not os.path.exists(folder):\n",
    "        os.makedirs(folder)\n",
    "    '''Download a file if not present, and make sure it's the right size.'''\n",
    "    if force or not os.path.exists(folder+filename):\n",
    "        print('Attempting to download:', filename) \n",
    "        localfilename, _ = urlretrieve(url + filename, folder+filename, reporthook=download_progress_hook)\n",
    "        print('\\nDownload Complete!')\n",
    "    statinfo = os.stat(folder+filename)\n",
    "    if statinfo.st_size == expected_bytes:\n",
    "        print('Found and verified', filename)\n",
    "    else:\n",
    "        raise Exception('Failed to verify %s, expected size = %d, actual size = %d' %(filename, expected_bytes,\n",
    "                                                                                                statinfo.st_size))\n",
    "    return folder+filename"
   ]
  },
  {
   "cell_type": "code",
   "execution_count": 3,
   "metadata": {
    "cellView": "both",
    "colab": {
     "autoexec": {
      "startup": false,
      "wait_interval": 0
     },
     "output_extras": [
      {
       "item_id": 1
      }
     ]
    },
    "colab_type": "code",
    "collapsed": false,
    "executionInfo": {
     "elapsed": 186058,
     "status": "ok",
     "timestamp": 1444485672507,
     "user": {
      "color": "#1FA15D",
      "displayName": "Vincent Vanhoucke",
      "isAnonymous": false,
      "isMe": true,
      "permissionId": "05076109866853157986",
      "photoUrl": "//lh6.googleusercontent.com/-cCJa7dTDcgQ/AAAAAAAAAAI/AAAAAAAACgw/r2EZ_8oYer4/s50-c-k-no/photo.jpg",
      "sessionId": "2a0a5e044bb03b66",
      "userId": "102167687554210253930"
     },
     "user_tz": 420
    },
    "id": "EYRJ4ICW6-da",
    "outputId": "0d0f85df-155f-4a89-8e7e-ee32df36ec8d"
   },
   "outputs": [
    {
     "name": "stdout",
     "output_type": "stream",
     "text": [
      "Found and verified train_32x32.mat\n",
      "Found and verified test_32x32.mat\n",
      "Found and verified extra_32x32.mat\n",
      "Found and verified train.tar.gz\n",
      "Found and verified test.tar.gz\n",
      "Found and verified extra.tar.gz\n"
     ]
    }
   ],
   "source": [
    "### Download the 32 x 32 MNIST-like single digit images\n",
    "train32_filename = maybe_download('data/32x32/','train_32x32.mat', 182040794)\n",
    "test32_filename  = maybe_download('data/32x32/','test_32x32.mat', 64275384)\n",
    "extra32_filename = maybe_download('data/32x32/','extra_32x32.mat', 1329278602)\n",
    "\n",
    "### Download the original images with full numbers\n",
    "train_filename = maybe_download('data/full/','train.tar.gz', 404141560)\n",
    "test_filename  = maybe_download('data/full/','test.tar.gz', 276555967)\n",
    "extra_filename = maybe_download('data/full/','extra.tar.gz', 1955489752)"
   ]
  }
 ],
 "metadata": {
  "anaconda-cloud": {},
  "colab": {
   "default_view": {},
   "name": "1_notmnist.ipynb",
   "provenance": [],
   "version": "0.3.2",
   "views": {}
  },
  "kernelspec": {
   "display_name": "Python [default]",
   "language": "python",
   "name": "python2"
  },
  "language_info": {
   "codemirror_mode": {
    "name": "ipython",
    "version": 2
   },
   "file_extension": ".py",
   "mimetype": "text/x-python",
   "name": "python",
   "nbconvert_exporter": "python",
   "pygments_lexer": "ipython2",
   "version": "2.7.12"
  }
 },
 "nbformat": 4,
 "nbformat_minor": 0
}
