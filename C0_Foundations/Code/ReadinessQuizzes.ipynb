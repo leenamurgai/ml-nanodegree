{
 "cells": [
  {
   "cell_type": "markdown",
   "metadata": {
    "collapsed": true
   },
   "source": [
    "# Readiness Assessment"
   ]
  },
  {
   "cell_type": "markdown",
   "metadata": {},
   "source": [
    "## Count Words"
   ]
  },
  {
   "cell_type": "markdown",
   "metadata": {},
   "source": [
    "count_words(s, n): Return the n most frequently occuring words in s"
   ]
  },
  {
   "cell_type": "code",
   "execution_count": 1,
   "metadata": {
    "collapsed": false
   },
   "outputs": [
    {
     "name": "stdout",
     "output_type": "stream",
     "text": [
      "['my', 'list', 'of', 'my', 'words'] \n",
      "\n"
     ]
    },
    {
     "data": {
      "text/plain": [
       "['my', 'list', 'of', 'my', 'words']"
      ]
     },
     "execution_count": 1,
     "metadata": {},
     "output_type": "execute_result"
    }
   ],
   "source": [
    "from collections import Counter\n",
    "\n",
    "def make_list_words(sentence):\n",
    "    charcount = 0\n",
    "    listwords = []\n",
    "    for i in range(len(sentence)):\n",
    "        if sentence[i] == ' ':\n",
    "            listwords += [sentence[charcount:i]]\n",
    "            charcount = i+1\n",
    "    listwords += [sentence[charcount:len(sentence)]]\n",
    "    return listwords\n",
    "\n",
    "print make_list_words(\"my list of my words\"), \"\\n\"\n",
    "\"my list of my words\".split()"
   ]
  },
  {
   "cell_type": "code",
   "execution_count": 2,
   "metadata": {
    "collapsed": false
   },
   "outputs": [
    {
     "name": "stdout",
     "output_type": "stream",
     "text": [
      "[('my', 2), ('of', 2), ('list', 1), ('the', 1), ('word', 1), ('words', 1)] \n",
      "\n",
      "[('my', 2), ('of', 2), ('list', 1), ('the', 1), ('word', 1), ('words', 1)] \n",
      "\n"
     ]
    },
    {
     "data": {
      "text/plain": [
       "[('my', 2), ('of', 2), ('list', 1), ('the', 1), ('word', 1), ('words', 1)]"
      ]
     },
     "execution_count": 2,
     "metadata": {},
     "output_type": "execute_result"
    }
   ],
   "source": [
    "def count_words_leena(s, n):\n",
    "    sortedlistwords = sorted(s.split())\n",
    "    nwords = len(sortedlistwords)\n",
    "    wordcount = 1\n",
    "    listwordsandcounts = []\n",
    "    if nwords==1:\n",
    "        listwordsandcounts=[(sortedlistwords[0],1)]\n",
    "    else:\n",
    "        for i in range(1, nwords):\n",
    "            if sortedlistwords[i] == sortedlistwords[i-1]:\n",
    "                wordcount += 1\n",
    "            else:\n",
    "                listwordsandcounts += [(sortedlistwords[i-1], wordcount)]\n",
    "                wordcount = 1\n",
    "        listwordsandcounts += [(sortedlistwords[nwords-1], wordcount)]\n",
    "    listwordsandcounts.sort(key=lambda tup: (-tup[1], tup[0]))\n",
    "\n",
    "    top_n = listwordsandcounts[0:n]\n",
    "\n",
    "    return top_n\n",
    "\n",
    "print count_words_leena(\"my list of my word of the words\", 7), \"\\n\"\n",
    "print sorted(Counter(\"my list of my word of the words\".split()).items(), key=lambda tup: (-tup[1], tup[0])), \"\\n\"\n",
    "\n",
    "def count_words(s, n):\n",
    "    return sorted(Counter(s.split()).items(), key=lambda tup: (-tup[1], tup[0]))[0:n] \n",
    "\n",
    "count_words(\"my list of my word of the words\", 7)"
   ]
  }
 ],
 "metadata": {
  "kernelspec": {
   "display_name": "Python 2",
   "language": "python",
   "name": "python2"
  },
  "language_info": {
   "codemirror_mode": {
    "name": "ipython",
    "version": 2
   },
   "file_extension": ".py",
   "mimetype": "text/x-python",
   "name": "python",
   "nbconvert_exporter": "python",
   "pygments_lexer": "ipython2",
   "version": "2.7.11"
  }
 },
 "nbformat": 4,
 "nbformat_minor": 0
}
